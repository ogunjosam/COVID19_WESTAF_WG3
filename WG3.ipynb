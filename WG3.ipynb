{
  "nbformat": 4,
  "nbformat_minor": 0,
  "metadata": {
    "colab": {
      "name": "WG3.ipynb",
      "provenance": [],
      "collapsed_sections": [],
      "include_colab_link": true
    },
    "kernelspec": {
      "name": "python3",
      "display_name": "Python 3"
    }
  },
  "cells": [
    {
      "cell_type": "markdown",
      "metadata": {
        "id": "view-in-github",
        "colab_type": "text"
      },
      "source": [
        "<a href=\"https://colab.research.google.com/github/ogunjosam/COVID19_WESTAF_WG3/blob/main/WG3.ipynb\" target=\"_parent\"><img src=\"https://colab.research.google.com/assets/colab-badge.svg\" alt=\"Open In Colab\"/></a>"
      ]
    },
    {
      "cell_type": "code",
      "metadata": {
        "id": "owNou0njji_u",
        "colab": {
          "base_uri": "https://localhost:8080/"
        },
        "outputId": "e76ece2c-0b31-440b-e76e-90e803ead480"
      },
      "source": [
        "'''\n",
        "This is a working document for members of WG3.  \n",
        " \n",
        "Please be careful with deleting\n",
        " \n",
        "'''\n",
        " \n",
        "import pandas as pd\n",
        "import numpy as np \n",
        "import seaborn as sns\n",
        " \n",
        "# import purpleair data as xx\n",
        "xx = pd.read_csv('https://raw.githubusercontent.com/ogunjosam/COVID19_WESTAF_WG3/main/Abuja_purpleair.csv')\n",
        "print(list(xx))"
      ],
      "execution_count": 1,
      "outputs": [
        {
          "output_type": "stream",
          "text": [
            "['created_at', 'PM1.0_CF1_ug/m3', 'PM2.5_CF1_ug/m3', 'PM10.0_CF1_ug/m3', 'UptimeMinutes', 'RSSI_dbm', 'Temperature_F', 'Humidity_%', 'PM2.5_ATM_ug/m3', 'Unnamed: 9']\n"
          ],
          "name": "stdout"
        }
      ]
    },
    {
      "cell_type": "code",
      "metadata": {
        "id": "iMu-DmYpsKo6",
        "colab": {
          "base_uri": "https://localhost:8080/"
        },
        "outputId": "7c52847a-7da8-4341-ef0c-ff14f36e2d5f"
      },
      "source": [
        "from google.colab import drive\n",
        "drive.mount('/content/drive')"
      ],
      "execution_count": 2,
      "outputs": [
        {
          "output_type": "stream",
          "text": [
            "Mounted at /content/drive\n"
          ],
          "name": "stdout"
        }
      ]
    }
  ]
}